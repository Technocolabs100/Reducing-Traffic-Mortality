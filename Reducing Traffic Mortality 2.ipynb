{
 "cells": [
  {
   "cell_type": "markdown",
   "id": "9ba38e99",
   "metadata": {},
   "source": [
    "# Reading "
   ]
  },
  {
   "cell_type": "code",
   "execution_count": 1,
   "id": "053e8f2c",
   "metadata": {},
   "outputs": [],
   "source": [
    "#import required libraries\n",
    "import pandas as pd\n",
    "import os\n",
    "os.chdir('D:\\DA\\Technocolabs Intern\\Task 1 Mini Project')"
   ]
  },
  {
   "cell_type": "code",
   "execution_count": 2,
   "id": "2a8b0ec4",
   "metadata": {},
   "outputs": [
    {
     "data": {
      "text/html": [
       "<div>\n",
       "<style scoped>\n",
       "    .dataframe tbody tr th:only-of-type {\n",
       "        vertical-align: middle;\n",
       "    }\n",
       "\n",
       "    .dataframe tbody tr th {\n",
       "        vertical-align: top;\n",
       "    }\n",
       "\n",
       "    .dataframe thead th {\n",
       "        text-align: right;\n",
       "    }\n",
       "</style>\n",
       "<table border=\"1\" class=\"dataframe\">\n",
       "  <thead>\n",
       "    <tr style=\"text-align: right;\">\n",
       "      <th></th>\n",
       "      <th>state</th>\n",
       "      <th>million_miles_annually</th>\n",
       "    </tr>\n",
       "  </thead>\n",
       "  <tbody>\n",
       "    <tr>\n",
       "      <th>0</th>\n",
       "      <td>Alabama</td>\n",
       "      <td>64914</td>\n",
       "    </tr>\n",
       "    <tr>\n",
       "      <th>1</th>\n",
       "      <td>Alaska</td>\n",
       "      <td>4593</td>\n",
       "    </tr>\n",
       "    <tr>\n",
       "      <th>2</th>\n",
       "      <td>Arizona</td>\n",
       "      <td>59575</td>\n",
       "    </tr>\n",
       "    <tr>\n",
       "      <th>3</th>\n",
       "      <td>Arkansas</td>\n",
       "      <td>32953</td>\n",
       "    </tr>\n",
       "    <tr>\n",
       "      <th>4</th>\n",
       "      <td>California</td>\n",
       "      <td>320784</td>\n",
       "    </tr>\n",
       "  </tbody>\n",
       "</table>\n",
       "</div>"
      ],
      "text/plain": [
       "        state  million_miles_annually\n",
       "0     Alabama                   64914\n",
       "1      Alaska                    4593\n",
       "2     Arizona                   59575\n",
       "3    Arkansas                   32953\n",
       "4  California                  320784"
      ]
     },
     "execution_count": 2,
     "metadata": {},
     "output_type": "execute_result"
    }
   ],
   "source": [
    "#reading files\n",
    "miles_drivenby_state = pd.read_csv('miles-driven.csv', sep = '|')\n",
    "miles_drivenby_state.head()"
   ]
  },
  {
   "cell_type": "code",
   "execution_count": 3,
   "id": "7e3fdfbc",
   "metadata": {},
   "outputs": [
    {
     "data": {
      "text/html": [
       "<div>\n",
       "<style scoped>\n",
       "    .dataframe tbody tr th:only-of-type {\n",
       "        vertical-align: middle;\n",
       "    }\n",
       "\n",
       "    .dataframe tbody tr th {\n",
       "        vertical-align: top;\n",
       "    }\n",
       "\n",
       "    .dataframe thead th {\n",
       "        text-align: right;\n",
       "    }\n",
       "</style>\n",
       "<table border=\"1\" class=\"dataframe\">\n",
       "  <thead>\n",
       "    <tr style=\"text-align: right;\">\n",
       "      <th></th>\n",
       "      <th>state</th>\n",
       "      <th>drvr_fatl_col_bmiles</th>\n",
       "      <th>perc_fatl_speed</th>\n",
       "      <th>perc_fatl_alcohol</th>\n",
       "      <th>perc_fatl_1st_time</th>\n",
       "    </tr>\n",
       "  </thead>\n",
       "  <tbody>\n",
       "    <tr>\n",
       "      <th>0</th>\n",
       "      <td>Alabama</td>\n",
       "      <td>18.8</td>\n",
       "      <td>39</td>\n",
       "      <td>30</td>\n",
       "      <td>80</td>\n",
       "    </tr>\n",
       "    <tr>\n",
       "      <th>1</th>\n",
       "      <td>Alaska</td>\n",
       "      <td>18.1</td>\n",
       "      <td>41</td>\n",
       "      <td>25</td>\n",
       "      <td>94</td>\n",
       "    </tr>\n",
       "    <tr>\n",
       "      <th>2</th>\n",
       "      <td>Arizona</td>\n",
       "      <td>18.6</td>\n",
       "      <td>35</td>\n",
       "      <td>28</td>\n",
       "      <td>96</td>\n",
       "    </tr>\n",
       "    <tr>\n",
       "      <th>3</th>\n",
       "      <td>Arkansas</td>\n",
       "      <td>22.4</td>\n",
       "      <td>18</td>\n",
       "      <td>26</td>\n",
       "      <td>95</td>\n",
       "    </tr>\n",
       "    <tr>\n",
       "      <th>4</th>\n",
       "      <td>California</td>\n",
       "      <td>12.0</td>\n",
       "      <td>35</td>\n",
       "      <td>28</td>\n",
       "      <td>89</td>\n",
       "    </tr>\n",
       "  </tbody>\n",
       "</table>\n",
       "</div>"
      ],
      "text/plain": [
       "        state  drvr_fatl_col_bmiles  perc_fatl_speed  perc_fatl_alcohol  \\\n",
       "0     Alabama                  18.8               39                 30   \n",
       "1      Alaska                  18.1               41                 25   \n",
       "2     Arizona                  18.6               35                 28   \n",
       "3    Arkansas                  22.4               18                 26   \n",
       "4  California                  12.0               35                 28   \n",
       "\n",
       "   perc_fatl_1st_time  \n",
       "0                  80  \n",
       "1                  94  \n",
       "2                  96  \n",
       "3                  95  \n",
       "4                  89  "
      ]
     },
     "execution_count": 3,
     "metadata": {},
     "output_type": "execute_result"
    }
   ],
   "source": [
    "#reading file 2\n",
    "#skipping 9 rows from the raw file\n",
    "road_accident = pd.read_csv('road-accidents.csv', sep = '|', comment =\"#\")\n",
    "road_accident.head()"
   ]
  },
  {
   "cell_type": "code",
   "execution_count": 4,
   "id": "42779d03",
   "metadata": {},
   "outputs": [
    {
     "data": {
      "text/html": [
       "<div>\n",
       "<style scoped>\n",
       "    .dataframe tbody tr th:only-of-type {\n",
       "        vertical-align: middle;\n",
       "    }\n",
       "\n",
       "    .dataframe tbody tr th {\n",
       "        vertical-align: top;\n",
       "    }\n",
       "\n",
       "    .dataframe thead th {\n",
       "        text-align: right;\n",
       "    }\n",
       "</style>\n",
       "<table border=\"1\" class=\"dataframe\">\n",
       "  <thead>\n",
       "    <tr style=\"text-align: right;\">\n",
       "      <th></th>\n",
       "      <th>state</th>\n",
       "      <th>drvr_fatl_col_bmiles</th>\n",
       "      <th>perc_fatl_speed</th>\n",
       "      <th>perc_fatl_alcohol</th>\n",
       "      <th>perc_fatl_1st_time</th>\n",
       "      <th>million_miles_annually</th>\n",
       "    </tr>\n",
       "  </thead>\n",
       "  <tbody>\n",
       "    <tr>\n",
       "      <th>0</th>\n",
       "      <td>Alabama</td>\n",
       "      <td>18.8</td>\n",
       "      <td>39</td>\n",
       "      <td>30</td>\n",
       "      <td>80</td>\n",
       "      <td>64914</td>\n",
       "    </tr>\n",
       "    <tr>\n",
       "      <th>1</th>\n",
       "      <td>Alaska</td>\n",
       "      <td>18.1</td>\n",
       "      <td>41</td>\n",
       "      <td>25</td>\n",
       "      <td>94</td>\n",
       "      <td>4593</td>\n",
       "    </tr>\n",
       "    <tr>\n",
       "      <th>2</th>\n",
       "      <td>Arizona</td>\n",
       "      <td>18.6</td>\n",
       "      <td>35</td>\n",
       "      <td>28</td>\n",
       "      <td>96</td>\n",
       "      <td>59575</td>\n",
       "    </tr>\n",
       "    <tr>\n",
       "      <th>3</th>\n",
       "      <td>Arkansas</td>\n",
       "      <td>22.4</td>\n",
       "      <td>18</td>\n",
       "      <td>26</td>\n",
       "      <td>95</td>\n",
       "      <td>32953</td>\n",
       "    </tr>\n",
       "    <tr>\n",
       "      <th>4</th>\n",
       "      <td>California</td>\n",
       "      <td>12.0</td>\n",
       "      <td>35</td>\n",
       "      <td>28</td>\n",
       "      <td>89</td>\n",
       "      <td>320784</td>\n",
       "    </tr>\n",
       "  </tbody>\n",
       "</table>\n",
       "</div>"
      ],
      "text/plain": [
       "        state  drvr_fatl_col_bmiles  perc_fatl_speed  perc_fatl_alcohol  \\\n",
       "0     Alabama                  18.8               39                 30   \n",
       "1      Alaska                  18.1               41                 25   \n",
       "2     Arizona                  18.6               35                 28   \n",
       "3    Arkansas                  22.4               18                 26   \n",
       "4  California                  12.0               35                 28   \n",
       "\n",
       "   perc_fatl_1st_time  million_miles_annually  \n",
       "0                  80                   64914  \n",
       "1                  94                    4593  \n",
       "2                  96                   59575  \n",
       "3                  95                   32953  \n",
       "4                  89                  320784  "
      ]
     },
     "execution_count": 4,
     "metadata": {},
     "output_type": "execute_result"
    }
   ],
   "source": [
    "road_accident_new = road_accident.join(miles_drivenby_state['million_miles_annually'])\n",
    "road_accident_new.head()"
   ]
  },
  {
   "cell_type": "markdown",
   "id": "30c26be3",
   "metadata": {},
   "source": [
    "#  Multivariate linear regression"
   ]
  },
  {
   "cell_type": "code",
   "execution_count": 5,
   "id": "7b263360",
   "metadata": {},
   "outputs": [],
   "source": [
    "from sklearn.preprocessing import StandardScaler\n",
    "from sklearn.linear_model import LinearRegression\n",
    "scaler = StandardScaler()\n",
    "reg = LinearRegression()"
   ]
  },
  {
   "cell_type": "code",
   "execution_count": 6,
   "id": "a42dafc7",
   "metadata": {},
   "outputs": [],
   "source": [
    "features = road_accident[['perc_fatl_speed', 'perc_fatl_alcohol', 'perc_fatl_1st_time']]\n",
    "taget_var = road_accident[['drvr_fatl_col_bmiles']]"
   ]
  },
  {
   "cell_type": "code",
   "execution_count": 7,
   "id": "9a955a41",
   "metadata": {},
   "outputs": [
    {
     "name": "stdout",
     "output_type": "stream",
     "text": [
      "[[-0.04180041  0.19086404  0.02473301]]\n"
     ]
    }
   ],
   "source": [
    "reg.fit(features, taget_var)\n",
    "reg_cof = reg.coef_\n",
    "print(reg_cof)"
   ]
  },
  {
   "cell_type": "markdown",
   "id": "d53aecfd",
   "metadata": {},
   "source": [
    "# PCA"
   ]
  },
  {
   "cell_type": "code",
   "execution_count": 8,
   "id": "ac6529e7",
   "metadata": {},
   "outputs": [],
   "source": [
    "scaled_df = scaler.fit_transform(features)"
   ]
  },
  {
   "cell_type": "code",
   "execution_count": 9,
   "id": "9615a370",
   "metadata": {},
   "outputs": [],
   "source": [
    "from sklearn.decomposition import PCA\n",
    "pca = PCA(n_components=2)"
   ]
  },
  {
   "cell_type": "code",
   "execution_count": 10,
   "id": "ab0aea75",
   "metadata": {},
   "outputs": [
    {
     "data": {
      "text/plain": [
       "PCA(n_components=2)"
      ]
     },
     "execution_count": 10,
     "metadata": {},
     "output_type": "execute_result"
    }
   ],
   "source": [
    "pca.fit(scaled_df)"
   ]
  },
  {
   "cell_type": "code",
   "execution_count": 11,
   "id": "e55b04c4",
   "metadata": {},
   "outputs": [],
   "source": [
    "pca_component = pca.transform(scaled_df)"
   ]
  },
  {
   "cell_type": "code",
   "execution_count": 12,
   "id": "44b61a60",
   "metadata": {},
   "outputs": [
    {
     "data": {
      "text/plain": [
       "(51, 3)"
      ]
     },
     "execution_count": 12,
     "metadata": {},
     "output_type": "execute_result"
    }
   ],
   "source": [
    "scaled_df.shape"
   ]
  },
  {
   "cell_type": "code",
   "execution_count": 13,
   "id": "bbf6f5c2",
   "metadata": {},
   "outputs": [
    {
     "data": {
      "text/plain": [
       "(51, 2)"
      ]
     },
     "execution_count": 13,
     "metadata": {},
     "output_type": "execute_result"
    }
   ],
   "source": [
    "pca_component.shape"
   ]
  },
  {
   "cell_type": "code",
   "execution_count": 14,
   "id": "2f10e92d",
   "metadata": {},
   "outputs": [
    {
     "data": {
      "text/plain": [
       "array([[ 0.88463912,  0.46421102],\n",
       "       [-0.62529903, -1.22024698],\n",
       "       [-0.67169596, -1.02786253],\n",
       "       [-1.83954608,  0.23991011],\n",
       "       [-0.21174283, -0.25666671],\n",
       "       [-0.49390467, -1.05414432],\n",
       "       [ 1.98805561, -0.22697834],\n",
       "       [-0.41984695, -1.56080846],\n",
       "       [-1.13099129, -1.40144229],\n",
       "       [-1.18444358,  0.14877025],\n",
       "       [-1.79251216,  0.39090271],\n",
       "       [ 2.80996806, -1.31802924],\n",
       "       [-0.60664618, -1.31530775],\n",
       "       [ 0.2268846 , -1.08935235],\n",
       "       [-1.02598376, -0.23430583],\n",
       "       [-1.51035032,  1.18838032],\n",
       "       [-0.95893975,  0.72533611],\n",
       "       [-0.95632936,  2.26156134],\n",
       "       [-0.10099555, -1.24259045],\n",
       "       [ 0.56576691,  0.091754  ],\n",
       "       [-0.36316811, -1.28565771],\n",
       "       [ 0.6900851 ,  1.56144575],\n",
       "       [-0.03971211,  1.81587269],\n",
       "       [-0.67811433,  0.67334261],\n",
       "       [-1.63409399, -0.10065137],\n",
       "       [ 1.40766864, -0.24488656],\n",
       "       [ 2.52202483, -0.07092466],\n",
       "       [-0.52740931,  1.14200056],\n",
       "       [-0.19504256, -1.49033665],\n",
       "       [ 0.46334895,  0.40660377],\n",
       "       [-0.5537545 ,  2.25151236],\n",
       "       [-1.84020388, -0.15770595],\n",
       "       [ 0.35192305,  0.94067245],\n",
       "       [ 0.95935465,  0.35516293],\n",
       "       [ 1.27880139,  0.90828   ],\n",
       "       [ 0.69845606,  0.99884978],\n",
       "       [-0.56798322, -0.60171918],\n",
       "       [-0.67038036, -0.23263042],\n",
       "       [ 1.11586188, -1.16652231],\n",
       "       [ 1.79352241,  0.9244954 ],\n",
       "       [ 2.30754399,  0.43461673],\n",
       "       [ 0.46332813,  0.35236477],\n",
       "       [-0.3302449 ,  1.58099105],\n",
       "       [ 1.60411279, -0.36622912],\n",
       "       [-1.90843858, -1.58714601],\n",
       "       [-0.60535139, -0.57431464],\n",
       "       [-1.18312797,  0.94400236],\n",
       "       [ 1.07978849, -0.39812466],\n",
       "       [-0.1363695 ,  0.03190126],\n",
       "       [ 0.87495256,  0.23157487],\n",
       "       [ 0.67653501, -0.83993073]])"
      ]
     },
     "execution_count": 14,
     "metadata": {},
     "output_type": "execute_result"
    }
   ],
   "source": [
    "pca_component"
   ]
  },
  {
   "cell_type": "code",
   "execution_count": 15,
   "id": "a32a6a0a",
   "metadata": {},
   "outputs": [],
   "source": [
    "pca_component_1 = pca_component[:,0]\n",
    "pca_component_2 = pca_component[:,1]"
   ]
  },
  {
   "cell_type": "code",
   "execution_count": 16,
   "id": "c22cf040",
   "metadata": {},
   "outputs": [],
   "source": [
    "import matplotlib.pyplot as plt"
   ]
  },
  {
   "cell_type": "markdown",
   "id": "4901747e",
   "metadata": {},
   "source": [
    "# Visualize the first two principal components"
   ]
  },
  {
   "cell_type": "code",
   "execution_count": 17,
   "id": "2a54c5bf",
   "metadata": {
    "scrolled": false
   },
   "outputs": [
    {
     "data": {
      "text/plain": [
       "Text(0, 0.5, 'Second principle component')"
      ]
     },
     "execution_count": 17,
     "metadata": {},
     "output_type": "execute_result"
    },
    {
     "data": {
      "image/png": "[encoded data removed]",
      "text/plain": [
       "<Figure size 1000x800 with 1 Axes>"
      ]
     },
     "metadata": {},
     "output_type": "display_data"
    }
   ],
   "source": [
    "plt.figure(figsize=(10,8))\n",
    "plt.scatter(pca_component_1, pca_component_2)\n",
    "#plt.scatter(pca_component[:,0], pca_component[:,1], c= road_accident['drvr_fatl_col_bmiles'])\n",
    "plt.xlabel('First principle component')\n",
    "plt.ylabel('Second principle component')"
   ]
  },
  {
   "cell_type": "markdown",
   "id": "bb839866",
   "metadata": {},
   "source": [
    "### Find clusters of similar states in the data Elbow method"
   ]
  },
  {
   "cell_type": "code",
   "execution_count": 18,
   "id": "6a23e889",
   "metadata": {},
   "outputs": [
    {
     "name": "stderr",
     "output_type": "stream",
     "text": [
      "C:\\Users\\sinur\\anaconda3\\lib\\site-packages\\sklearn\\cluster\\_kmeans.py:1036: UserWarning: KMeans is known to have a memory leak on Windows with MKL, when there are less chunks than available threads. You can avoid it by setting the environment variable OMP_NUM_THREADS=1.\n",
      "  warnings.warn(\n"
     ]
    },
    {
     "data": {
      "image/png": "[encoded data removed]",
      "text/plain": [
       "<Figure size 640x480 with 1 Axes>"
      ]
     },
     "metadata": {},
     "output_type": "display_data"
    }
   ],
   "source": [
    "from sklearn.cluster import KMeans\n",
    "\n",
    "inertias = []\n",
    "\n",
    "for i in range(1,10):\n",
    "    kmeans = KMeans(n_clusters=i)\n",
    "    kmeans.fit(scaled_df)\n",
    "    inertias.append(kmeans.inertia_)\n",
    "\n",
    "plt.plot(range(1,10), inertias, marker='o')\n",
    "plt.title('Elbow method')\n",
    "plt.xlabel('Number of clusters')\n",
    "plt.ylabel('Inertia')\n",
    "plt.show()"
   ]
  },
  {
   "cell_type": "markdown",
   "id": "103918de",
   "metadata": {},
   "source": [
    "# KMeans to visualize clusters in the PCA scatter plot"
   ]
  },
  {
   "cell_type": "code",
   "execution_count": 19,
   "id": "4fb8bfb7",
   "metadata": {},
   "outputs": [
    {
     "data": {
      "image/png": "[encoded data removed]",
      "text/plain": [
       "<Figure size 640x480 with 1 Axes>"
      ]
     },
     "metadata": {},
     "output_type": "display_data"
    }
   ],
   "source": [
    "#for 3 features taken KMeans n_cluster 3\n",
    "kmeans = KMeans(n_clusters=3)\n",
    "kmean_df = kmeans.fit_transform(scaled_df)\n",
    "plt.scatter(kmean_df[:,0], kmean_df[:,1], c=kmeans.labels_)\n",
    "plt.show()"
   ]
  },
  {
   "cell_type": "code",
   "execution_count": 20,
   "id": "bf36cb29",
   "metadata": {},
   "outputs": [],
   "source": [
    "import seaborn as sns\n",
    "#kmeans = KMeans(n_clusters=3)\n",
    "#kmean_df = kmeans.fit_transform(scaled_df)\n",
    "#sns.scatterplot(kmean_df[:,0], kmean_df[:,1], c=kmeans.labels_)\n",
    "#plt.show()"
   ]
  },
  {
   "cell_type": "markdown",
   "id": "69a273bf",
   "metadata": {},
   "source": [
    "# Visualize unscaled features to see the differences"
   ]
  },
  {
   "cell_type": "code",
   "execution_count": 21,
   "id": "0f61c48c",
   "metadata": {},
   "outputs": [
    {
     "data": {
      "text/html": [
       "<div>\n",
       "<style scoped>\n",
       "    .dataframe tbody tr th:only-of-type {\n",
       "        vertical-align: middle;\n",
       "    }\n",
       "\n",
       "    .dataframe tbody tr th {\n",
       "        vertical-align: top;\n",
       "    }\n",
       "\n",
       "    .dataframe thead th {\n",
       "        text-align: right;\n",
       "    }\n",
       "</style>\n",
       "<table border=\"1\" class=\"dataframe\">\n",
       "  <thead>\n",
       "    <tr style=\"text-align: right;\">\n",
       "      <th></th>\n",
       "      <th>perc_fatl_speed</th>\n",
       "      <th>perc_fatl_alcohol</th>\n",
       "      <th>perc_fatl_1st_time</th>\n",
       "    </tr>\n",
       "  </thead>\n",
       "  <tbody>\n",
       "    <tr>\n",
       "      <th>0</th>\n",
       "      <td>39</td>\n",
       "      <td>30</td>\n",
       "      <td>80</td>\n",
       "    </tr>\n",
       "    <tr>\n",
       "      <th>1</th>\n",
       "      <td>41</td>\n",
       "      <td>25</td>\n",
       "      <td>94</td>\n",
       "    </tr>\n",
       "    <tr>\n",
       "      <th>2</th>\n",
       "      <td>35</td>\n",
       "      <td>28</td>\n",
       "      <td>96</td>\n",
       "    </tr>\n",
       "  </tbody>\n",
       "</table>\n",
       "</div>"
      ],
      "text/plain": [
       "   perc_fatl_speed  perc_fatl_alcohol  perc_fatl_1st_time\n",
       "0               39                 30                  80\n",
       "1               41                 25                  94\n",
       "2               35                 28                  96"
      ]
     },
     "execution_count": 21,
     "metadata": {},
     "output_type": "execute_result"
    }
   ],
   "source": [
    "features.head(3)"
   ]
  },
  {
   "cell_type": "code",
   "execution_count": 22,
   "id": "f9731c2a",
   "metadata": {},
   "outputs": [
    {
     "data": {
      "image/png": "[encoded data removed]",
      "text/plain": [
       "<Figure size 640x480 with 1 Axes>"
      ]
     },
     "metadata": {},
     "output_type": "display_data"
    }
   ],
   "source": [
    "kmeans = KMeans(n_clusters=3)\n",
    "kmean_df = kmeans.fit_transform(features)\n",
    "plt.scatter(kmean_df[:,0], kmean_df[:,1], c=kmeans.labels_)\n",
    "plt.show()"
   ]
  },
  {
   "cell_type": "markdown",
   "id": "db44e9e0",
   "metadata": {},
   "source": [
    "# Number of accident per thousand mile"
   ]
  },
  {
   "cell_type": "code",
   "execution_count": 23,
   "id": "fd1c4c87",
   "metadata": {},
   "outputs": [
    {
     "data": {
      "text/html": [
       "<div>\n",
       "<style scoped>\n",
       "    .dataframe tbody tr th:only-of-type {\n",
       "        vertical-align: middle;\n",
       "    }\n",
       "\n",
       "    .dataframe tbody tr th {\n",
       "        vertical-align: top;\n",
       "    }\n",
       "\n",
       "    .dataframe thead th {\n",
       "        text-align: right;\n",
       "    }\n",
       "</style>\n",
       "<table border=\"1\" class=\"dataframe\">\n",
       "  <thead>\n",
       "    <tr style=\"text-align: right;\">\n",
       "      <th></th>\n",
       "      <th>each_state_acc</th>\n",
       "    </tr>\n",
       "  </thead>\n",
       "  <tbody>\n",
       "    <tr>\n",
       "      <th>0</th>\n",
       "      <td>1220.3832</td>\n",
       "    </tr>\n",
       "    <tr>\n",
       "      <th>1</th>\n",
       "      <td>83.1333</td>\n",
       "    </tr>\n",
       "    <tr>\n",
       "      <th>2</th>\n",
       "      <td>1108.0950</td>\n",
       "    </tr>\n",
       "  </tbody>\n",
       "</table>\n",
       "</div>"
      ],
      "text/plain": [
       "   each_state_acc\n",
       "0       1220.3832\n",
       "1         83.1333\n",
       "2       1108.0950"
      ]
     },
     "execution_count": 23,
     "metadata": {},
     "output_type": "execute_result"
    }
   ],
   "source": [
    "acc_thousand_mile = miles_drivenby_state['million_miles_annually']*road_accident['drvr_fatl_col_bmiles']/1000\n",
    "each_state_acc = pd.DataFrame(acc_thousand_mile)\n",
    "#each_state_acc['each_state_acc'] = each_state_acc\n",
    "each_state_acc.columns = ['each_state_acc']\n",
    "each_state_acc.head(3)"
   ]
  },
  {
   "cell_type": "code",
   "execution_count": 24,
   "id": "70b23d11",
   "metadata": {},
   "outputs": [
    {
     "data": {
      "text/plain": [
       "<AxesSubplot:xlabel='each_state_acc'>"
      ]
     },
     "execution_count": 24,
     "metadata": {},
     "output_type": "execute_result"
    },
    {
     "data": {
      "image/png": "[encoded data removed]",
      "text/plain": [
       "<Figure size 640x480 with 1 Axes>"
      ]
     },
     "metadata": {},
     "output_type": "display_data"
    }
   ],
   "source": [
    "sns.violinplot(x=each_state_acc[\"each_state_acc\"])"
   ]
  },
  {
   "cell_type": "code",
   "execution_count": 25,
   "id": "2f1b9f4a",
   "metadata": {},
   "outputs": [
    {
     "data": {
      "text/plain": [
       "{'bodies': [<matplotlib.collections.PolyCollection at 0x2982a617bb0>],\n",
       " 'cmaxes': <matplotlib.collections.LineCollection at 0x2982a617b20>,\n",
       " 'cmins': <matplotlib.collections.LineCollection at 0x2982a6262b0>,\n",
       " 'cbars': <matplotlib.collections.LineCollection at 0x2982a626670>}"
      ]
     },
     "execution_count": 25,
     "metadata": {},
     "output_type": "execute_result"
    },
    {
     "data": {
      "image/png": "[encoded data removed]",
      "text/plain": [
       "<Figure size 640x480 with 1 Axes>"
      ]
     },
     "metadata": {},
     "output_type": "display_data"
    }
   ],
   "source": [
    "plt.violinplot(each_state_acc)"
   ]
  },
  {
   "cell_type": "code",
   "execution_count": 26,
   "id": "911418cd",
   "metadata": {},
   "outputs": [],
   "source": [
    "#miles_drivenby_state.head(3)"
   ]
  },
  {
   "cell_type": "code",
   "execution_count": 27,
   "id": "5ab0b17a",
   "metadata": {},
   "outputs": [],
   "source": [
    "#road_accident.head(3)"
   ]
  },
  {
   "cell_type": "code",
   "execution_count": null,
   "id": "c7d8ea4c",
   "metadata": {},
   "outputs": [],
   "source": []
  }
 ],
 "metadata": {
  "kernelspec": {
   "display_name": "Python 3 (ipykernel)",
   "language": "python",
   "name": "python3"
  },
  "language_info": {
   "codemirror_mode": {
    "name": "ipython",
    "version": 3
   },
   "file_extension": ".py",
   "mimetype": "text/x-python",
   "name": "python",
   "nbconvert_exporter": "python",
   "pygments_lexer": "ipython3",
   "version": "3.9.13"
  }
 },
 "nbformat": 4,
 "nbformat_minor": 5
}
